{
 "cells": [
  {
   "cell_type": "markdown",
   "id": "cd90588f",
   "metadata": {},
   "source": [
    "Radius & Pi"
   ]
  },
  {
   "cell_type": "code",
   "execution_count": 1,
   "id": "bc3ed7e9",
   "metadata": {},
   "outputs": [],
   "source": [
    "r <- 2\n",
    "pi <- 3.14159"
   ]
  },
  {
   "cell_type": "markdown",
   "id": "cfda7d14",
   "metadata": {},
   "source": [
    "A function to compute the volume of a sphere with radius r=2"
   ]
  },
  {
   "cell_type": "code",
   "execution_count": 2,
   "id": "8b527824",
   "metadata": {},
   "outputs": [
    {
     "data": {
      "text/html": [
       "33.5102933333333"
      ],
      "text/latex": [
       "33.5102933333333"
      ],
      "text/markdown": [
       "33.5102933333333"
      ],
      "text/plain": [
       "[1] 33.51029"
      ]
     },
     "metadata": {},
     "output_type": "display_data"
    }
   ],
   "source": [
    "volume <- function(r) {\n",
    "  4/3*pi*r^3\n",
    "}\n",
    "\n",
    "volume(r)"
   ]
  },
  {
   "cell_type": "markdown",
   "id": "9b9e2c74",
   "metadata": {},
   "source": [
    "Now lets see if our function is performing properly by changing value of r (the result should be approx. 904.78):"
   ]
  },
  {
   "cell_type": "code",
   "execution_count": 3,
   "id": "a6628e53",
   "metadata": {},
   "outputs": [
    {
     "data": {
      "text/html": [
       "904.77792"
      ],
      "text/latex": [
       "904.77792"
      ],
      "text/markdown": [
       "904.77792"
      ],
      "text/plain": [
       "[1] 904.7779"
      ]
     },
     "metadata": {},
     "output_type": "display_data"
    }
   ],
   "source": [
    "4/3*3.14159*6^3"
   ]
  },
  {
   "cell_type": "markdown",
   "id": "41baf20c",
   "metadata": {},
   "source": [
    "A function to compute the volumes of the spheres with radius r, r^2 and r^3\n"
   ]
  },
  {
   "cell_type": "code",
   "execution_count": 4,
   "id": "4bf0fc32",
   "metadata": {},
   "outputs": [],
   "source": [
    "volume_vector <- function(r){\n",
    "  for (i in 1:3) {\n",
    "    v <- 4/3*pi\n",
    "    r <- 22^3\n",
    "    a <- c(1,2,3)\n",
    "    result <- v*r^a\n",
    "    return(result)\n",
    "  }\n",
    "}"
   ]
  },
  {
   "cell_type": "markdown",
   "id": "2098b54a",
   "metadata": {},
   "source": [
    "Run volume_vector(r) and print the volumes of the spheres with radius r, r^2 and r^3"
   ]
  },
  {
   "cell_type": "code",
   "execution_count": 5,
   "id": "fcdd07f6",
   "metadata": {},
   "outputs": [
    {
     "data": {
      "text/html": [
       "<ol class=list-inline>\n",
       "\t<li>44602.2004266667</li>\n",
       "\t<li>474924230.143147</li>\n",
       "\t<li>5056993202564.23</li>\n",
       "</ol>\n"
      ],
      "text/latex": [
       "\\begin{enumerate*}\n",
       "\\item 44602.2004266667\n",
       "\\item 474924230.143147\n",
       "\\item 5056993202564.23\n",
       "\\end{enumerate*}\n"
      ],
      "text/markdown": [
       "1. 44602.2004266667\n",
       "2. 474924230.143147\n",
       "3. 5056993202564.23\n",
       "\n",
       "\n"
      ],
      "text/plain": [
       "[1] 4.460220e+04 4.749242e+08 5.056993e+12"
      ]
     },
     "metadata": {},
     "output_type": "display_data"
    }
   ],
   "source": [
    "volume_vector(r)"
   ]
  },
  {
   "cell_type": "markdown",
   "id": "c4daa96a",
   "metadata": {},
   "source": [
    "Again, lets test the function (result should be approx. 44.406, 474.925, and 5.057)"
   ]
  },
  {
   "cell_type": "code",
   "execution_count": 6,
   "id": "bbdac1a3",
   "metadata": {
    "scrolled": false
   },
   "outputs": [
    {
     "data": {
      "text/html": [
       "44602.2004266667"
      ],
      "text/latex": [
       "44602.2004266667"
      ],
      "text/markdown": [
       "44602.2004266667"
      ],
      "text/plain": [
       "[1] 44602.2"
      ]
     },
     "metadata": {},
     "output_type": "display_data"
    },
    {
     "data": {
      "text/html": [
       "474924230.143147"
      ],
      "text/latex": [
       "474924230.143147"
      ],
      "text/markdown": [
       "474924230.143147"
      ],
      "text/plain": [
       "[1] 474924230"
      ]
     },
     "metadata": {},
     "output_type": "display_data"
    },
    {
     "data": {
      "text/html": [
       "5056993202564.23"
      ],
      "text/latex": [
       "5056993202564.23"
      ],
      "text/markdown": [
       "5056993202564.23"
      ],
      "text/plain": [
       "[1] 5.056993e+12"
      ]
     },
     "metadata": {},
     "output_type": "display_data"
    }
   ],
   "source": [
    "4/3*3.14159*22^3^1\n",
    "4/3*3.14159*(22^3)^2\n",
    "4/3*3.14159*(22^3)^3"
   ]
  },
  {
   "cell_type": "markdown",
   "id": "1649db49",
   "metadata": {},
   "source": [
    "We have now fixed the bugs in the code, and it should run as intended.\n"
   ]
  }
 ],
 "metadata": {
  "kernelspec": {
   "display_name": "R",
   "language": "R",
   "name": "ir"
  },
  "language_info": {
   "codemirror_mode": "r",
   "file_extension": ".r",
   "mimetype": "text/x-r-source",
   "name": "R",
   "pygments_lexer": "r",
   "version": "3.6.1"
  }
 },
 "nbformat": 4,
 "nbformat_minor": 5
}
